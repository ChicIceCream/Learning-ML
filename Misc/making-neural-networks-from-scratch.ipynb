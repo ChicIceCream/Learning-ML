{
 "cells": [
  {
   "cell_type": "code",
   "execution_count": 1,
   "id": "1f0a2cbf",
   "metadata": {
    "_cell_guid": "b1076dfc-b9ad-4769-8c92-a6c4dae69d19",
    "_uuid": "8f2839f25d086af736a60e9eeb907d3b93b6e0e5",
    "execution": {
     "iopub.execute_input": "2024-04-11T12:52:58.131308Z",
     "iopub.status.busy": "2024-04-11T12:52:58.130090Z",
     "iopub.status.idle": "2024-04-11T12:52:59.070221Z",
     "shell.execute_reply": "2024-04-11T12:52:59.068993Z"
    },
    "papermill": {
     "duration": 0.9489,
     "end_time": "2024-04-11T12:52:59.072699",
     "exception": false,
     "start_time": "2024-04-11T12:52:58.123799",
     "status": "completed"
    },
    "tags": []
   },
   "outputs": [
    {
     "name": "stdout",
     "output_type": "stream",
     "text": [
      "/kaggle/input/digit-recognizer/sample_submission.csv\n",
      "/kaggle/input/digit-recognizer/train.csv\n",
      "/kaggle/input/digit-recognizer/test.csv\n"
     ]
    }
   ],
   "source": [
    "# This Python 3 environment comes with many helpful analytics libraries installed\n",
    "# It is defined by the kaggle/python Docker image: https://github.com/kaggle/docker-python\n",
    "# For example, here's several helpful packages to load\n",
    "\n",
    "import numpy as np # linear algebra\n",
    "import pandas as pd # data processing, CSV file I/O (e.g. pd.read_csv)\n",
    "\n",
    "# Input data files are available in the read-only \"../input/\" directory\n",
    "# For example, running this (by clicking run or pressing Shift+Enter) will list all files under the input directory\n",
    "\n",
    "import os\n",
    "for dirname, _, filenames in os.walk('/kaggle/input'):\n",
    "    for filename in filenames:\n",
    "        print(os.path.join(dirname, filename))\n",
    "\n",
    "# You can write up to 20GB to the current directory (/kaggle/working/) that gets preserved as output when you create a version using \"Save & Run All\" \n",
    "# You can also write temporary files to /kaggle/temp/, but they won't be saved outside of the current session"
   ]
  },
  {
   "cell_type": "code",
   "execution_count": 2,
   "id": "634f5ae6",
   "metadata": {
    "execution": {
     "iopub.execute_input": "2024-04-11T12:52:59.084280Z",
     "iopub.status.busy": "2024-04-11T12:52:59.082973Z",
     "iopub.status.idle": "2024-04-11T12:52:59.089029Z",
     "shell.execute_reply": "2024-04-11T12:52:59.087634Z"
    },
    "papermill": {
     "duration": 0.013757,
     "end_time": "2024-04-11T12:52:59.091442",
     "exception": false,
     "start_time": "2024-04-11T12:52:59.077685",
     "status": "completed"
    },
    "tags": []
   },
   "outputs": [],
   "source": [
    "import numpy as np\n",
    "import pandas as pd\n",
    "from matplotlib import pyplot as plt"
   ]
  },
  {
   "cell_type": "code",
   "execution_count": 3,
   "id": "52b934d8",
   "metadata": {
    "execution": {
     "iopub.execute_input": "2024-04-11T12:52:59.100732Z",
     "iopub.status.busy": "2024-04-11T12:52:59.100288Z",
     "iopub.status.idle": "2024-04-11T12:53:03.092744Z",
     "shell.execute_reply": "2024-04-11T12:53:03.091787Z"
    },
    "papermill": {
     "duration": 4.00063,
     "end_time": "2024-04-11T12:53:03.095884",
     "exception": false,
     "start_time": "2024-04-11T12:52:59.095254",
     "status": "completed"
    },
    "tags": []
   },
   "outputs": [],
   "source": [
    "data = pd.read_csv(\"/kaggle/input/digit-recognizer/train.csv\")"
   ]
  },
  {
   "cell_type": "code",
   "execution_count": 4,
   "id": "116b186b",
   "metadata": {
    "execution": {
     "iopub.execute_input": "2024-04-11T12:53:03.106844Z",
     "iopub.status.busy": "2024-04-11T12:53:03.105565Z",
     "iopub.status.idle": "2024-04-11T12:53:03.132365Z",
     "shell.execute_reply": "2024-04-11T12:53:03.131200Z"
    },
    "papermill": {
     "duration": 0.035192,
     "end_time": "2024-04-11T12:53:03.135183",
     "exception": false,
     "start_time": "2024-04-11T12:53:03.099991",
     "status": "completed"
    },
    "tags": []
   },
   "outputs": [
    {
     "data": {
      "text/html": [
       "<div>\n",
       "<style scoped>\n",
       "    .dataframe tbody tr th:only-of-type {\n",
       "        vertical-align: middle;\n",
       "    }\n",
       "\n",
       "    .dataframe tbody tr th {\n",
       "        vertical-align: top;\n",
       "    }\n",
       "\n",
       "    .dataframe thead th {\n",
       "        text-align: right;\n",
       "    }\n",
       "</style>\n",
       "<table border=\"1\" class=\"dataframe\">\n",
       "  <thead>\n",
       "    <tr style=\"text-align: right;\">\n",
       "      <th></th>\n",
       "      <th>label</th>\n",
       "      <th>pixel0</th>\n",
       "      <th>pixel1</th>\n",
       "      <th>pixel2</th>\n",
       "      <th>pixel3</th>\n",
       "      <th>pixel4</th>\n",
       "      <th>pixel5</th>\n",
       "      <th>pixel6</th>\n",
       "      <th>pixel7</th>\n",
       "      <th>pixel8</th>\n",
       "      <th>...</th>\n",
       "      <th>pixel774</th>\n",
       "      <th>pixel775</th>\n",
       "      <th>pixel776</th>\n",
       "      <th>pixel777</th>\n",
       "      <th>pixel778</th>\n",
       "      <th>pixel779</th>\n",
       "      <th>pixel780</th>\n",
       "      <th>pixel781</th>\n",
       "      <th>pixel782</th>\n",
       "      <th>pixel783</th>\n",
       "    </tr>\n",
       "  </thead>\n",
       "  <tbody>\n",
       "    <tr>\n",
       "      <th>0</th>\n",
       "      <td>1</td>\n",
       "      <td>0</td>\n",
       "      <td>0</td>\n",
       "      <td>0</td>\n",
       "      <td>0</td>\n",
       "      <td>0</td>\n",
       "      <td>0</td>\n",
       "      <td>0</td>\n",
       "      <td>0</td>\n",
       "      <td>0</td>\n",
       "      <td>...</td>\n",
       "      <td>0</td>\n",
       "      <td>0</td>\n",
       "      <td>0</td>\n",
       "      <td>0</td>\n",
       "      <td>0</td>\n",
       "      <td>0</td>\n",
       "      <td>0</td>\n",
       "      <td>0</td>\n",
       "      <td>0</td>\n",
       "      <td>0</td>\n",
       "    </tr>\n",
       "    <tr>\n",
       "      <th>1</th>\n",
       "      <td>0</td>\n",
       "      <td>0</td>\n",
       "      <td>0</td>\n",
       "      <td>0</td>\n",
       "      <td>0</td>\n",
       "      <td>0</td>\n",
       "      <td>0</td>\n",
       "      <td>0</td>\n",
       "      <td>0</td>\n",
       "      <td>0</td>\n",
       "      <td>...</td>\n",
       "      <td>0</td>\n",
       "      <td>0</td>\n",
       "      <td>0</td>\n",
       "      <td>0</td>\n",
       "      <td>0</td>\n",
       "      <td>0</td>\n",
       "      <td>0</td>\n",
       "      <td>0</td>\n",
       "      <td>0</td>\n",
       "      <td>0</td>\n",
       "    </tr>\n",
       "    <tr>\n",
       "      <th>2</th>\n",
       "      <td>1</td>\n",
       "      <td>0</td>\n",
       "      <td>0</td>\n",
       "      <td>0</td>\n",
       "      <td>0</td>\n",
       "      <td>0</td>\n",
       "      <td>0</td>\n",
       "      <td>0</td>\n",
       "      <td>0</td>\n",
       "      <td>0</td>\n",
       "      <td>...</td>\n",
       "      <td>0</td>\n",
       "      <td>0</td>\n",
       "      <td>0</td>\n",
       "      <td>0</td>\n",
       "      <td>0</td>\n",
       "      <td>0</td>\n",
       "      <td>0</td>\n",
       "      <td>0</td>\n",
       "      <td>0</td>\n",
       "      <td>0</td>\n",
       "    </tr>\n",
       "    <tr>\n",
       "      <th>3</th>\n",
       "      <td>4</td>\n",
       "      <td>0</td>\n",
       "      <td>0</td>\n",
       "      <td>0</td>\n",
       "      <td>0</td>\n",
       "      <td>0</td>\n",
       "      <td>0</td>\n",
       "      <td>0</td>\n",
       "      <td>0</td>\n",
       "      <td>0</td>\n",
       "      <td>...</td>\n",
       "      <td>0</td>\n",
       "      <td>0</td>\n",
       "      <td>0</td>\n",
       "      <td>0</td>\n",
       "      <td>0</td>\n",
       "      <td>0</td>\n",
       "      <td>0</td>\n",
       "      <td>0</td>\n",
       "      <td>0</td>\n",
       "      <td>0</td>\n",
       "    </tr>\n",
       "    <tr>\n",
       "      <th>4</th>\n",
       "      <td>0</td>\n",
       "      <td>0</td>\n",
       "      <td>0</td>\n",
       "      <td>0</td>\n",
       "      <td>0</td>\n",
       "      <td>0</td>\n",
       "      <td>0</td>\n",
       "      <td>0</td>\n",
       "      <td>0</td>\n",
       "      <td>0</td>\n",
       "      <td>...</td>\n",
       "      <td>0</td>\n",
       "      <td>0</td>\n",
       "      <td>0</td>\n",
       "      <td>0</td>\n",
       "      <td>0</td>\n",
       "      <td>0</td>\n",
       "      <td>0</td>\n",
       "      <td>0</td>\n",
       "      <td>0</td>\n",
       "      <td>0</td>\n",
       "    </tr>\n",
       "  </tbody>\n",
       "</table>\n",
       "<p>5 rows × 785 columns</p>\n",
       "</div>"
      ],
      "text/plain": [
       "   label  pixel0  pixel1  pixel2  pixel3  pixel4  pixel5  pixel6  pixel7  \\\n",
       "0      1       0       0       0       0       0       0       0       0   \n",
       "1      0       0       0       0       0       0       0       0       0   \n",
       "2      1       0       0       0       0       0       0       0       0   \n",
       "3      4       0       0       0       0       0       0       0       0   \n",
       "4      0       0       0       0       0       0       0       0       0   \n",
       "\n",
       "   pixel8  ...  pixel774  pixel775  pixel776  pixel777  pixel778  pixel779  \\\n",
       "0       0  ...         0         0         0         0         0         0   \n",
       "1       0  ...         0         0         0         0         0         0   \n",
       "2       0  ...         0         0         0         0         0         0   \n",
       "3       0  ...         0         0         0         0         0         0   \n",
       "4       0  ...         0         0         0         0         0         0   \n",
       "\n",
       "   pixel780  pixel781  pixel782  pixel783  \n",
       "0         0         0         0         0  \n",
       "1         0         0         0         0  \n",
       "2         0         0         0         0  \n",
       "3         0         0         0         0  \n",
       "4         0         0         0         0  \n",
       "\n",
       "[5 rows x 785 columns]"
      ]
     },
     "execution_count": 4,
     "metadata": {},
     "output_type": "execute_result"
    }
   ],
   "source": [
    "data.head()\n"
   ]
  },
  {
   "cell_type": "code",
   "execution_count": 5,
   "id": "3f5fe897",
   "metadata": {
    "execution": {
     "iopub.execute_input": "2024-04-11T12:53:03.146348Z",
     "iopub.status.busy": "2024-04-11T12:53:03.145475Z",
     "iopub.status.idle": "2024-04-11T12:53:04.097202Z",
     "shell.execute_reply": "2024-04-11T12:53:04.095954Z"
    },
    "papermill": {
     "duration": 0.960941,
     "end_time": "2024-04-11T12:53:04.100295",
     "exception": false,
     "start_time": "2024-04-11T12:53:03.139354",
     "status": "completed"
    },
    "tags": []
   },
   "outputs": [],
   "source": [
    "data = np.array(data)\n",
    "m, n = data.shape\n",
    "np.random.shuffle(data)\n",
    "\n",
    "data_dev = data[0:1000].T\n",
    "Y_dev = data_dev[0]\n",
    "X_dev = data_dev[1:n]\n",
    "\n",
    "data_train = data[1000:m].T\n",
    "Y_train = data_train[0]\n",
    "X_train = data_train[1:n]"
   ]
  },
  {
   "cell_type": "code",
   "execution_count": 6,
   "id": "411567ee",
   "metadata": {
    "execution": {
     "iopub.execute_input": "2024-04-11T12:53:04.111398Z",
     "iopub.status.busy": "2024-04-11T12:53:04.110544Z",
     "iopub.status.idle": "2024-04-11T12:53:04.119480Z",
     "shell.execute_reply": "2024-04-11T12:53:04.118405Z"
    },
    "papermill": {
     "duration": 0.016859,
     "end_time": "2024-04-11T12:53:04.121633",
     "exception": false,
     "start_time": "2024-04-11T12:53:04.104774",
     "status": "completed"
    },
    "tags": []
   },
   "outputs": [
    {
     "data": {
      "text/plain": [
       "array([7, 2, 0, ..., 2, 7, 4])"
      ]
     },
     "execution_count": 6,
     "metadata": {},
     "output_type": "execute_result"
    }
   ],
   "source": [
    "Y_train"
   ]
  },
  {
   "cell_type": "code",
   "execution_count": 7,
   "id": "31140b2e",
   "metadata": {
    "execution": {
     "iopub.execute_input": "2024-04-11T12:53:04.132824Z",
     "iopub.status.busy": "2024-04-11T12:53:04.132259Z",
     "iopub.status.idle": "2024-04-11T12:53:04.144585Z",
     "shell.execute_reply": "2024-04-11T12:53:04.143235Z"
    },
    "papermill": {
     "duration": 0.021111,
     "end_time": "2024-04-11T12:53:04.147077",
     "exception": false,
     "start_time": "2024-04-11T12:53:04.125966",
     "status": "completed"
    },
    "tags": []
   },
   "outputs": [],
   "source": [
    "def init_params():\n",
    "    W1 = np.random.rand(10, 784) - 0.5\n",
    "    b1 = np.random.rand(10, 1) - 0.5\n",
    "    W2 = np.random.rand(10, 10) - 0.5\n",
    "    b2 = np.random.rand(10, 1) - 0.5\n",
    "    return W1, b1, W2, b2\n",
    "\n",
    "def ReLU(Z):\n",
    "    return np.maximum(Z, 0)\n",
    "\n",
    "def softmax(Z):\n",
    "    A = np.exp(Z) / sum(np.exp(Z))\n",
    "    return A\n",
    "    \n",
    "def forward_prop(W1, b1, W2, b2, X):\n",
    "    Z1 = W1.dot(X) + b1\n",
    "    A1 = ReLU(Z1)\n",
    "    Z2 = W2.dot(A1) + b2\n",
    "    A2 = softmax(Z2)\n",
    "    return Z1, A1, Z2, A2\n",
    "\n",
    "def ReLU_deriv(Z):\n",
    "    return Z > 0\n",
    "\n",
    "def one_hot(Y):\n",
    "    one_hot_Y = np.zeros((Y.size, Y.max() + 1))\n",
    "    one_hot_Y[np.arange(Y.size), Y] = 1\n",
    "    one_hot_Y = one_hot_Y.T\n",
    "    return one_hot_Y\n",
    "\n",
    "def backward_prop(Z1, A1, Z2, A2, W1, W2, X, Y):\n",
    "    one_hot_Y = one_hot(Y)\n",
    "    dZ2 = A2 - one_hot_Y\n",
    "    dW2 = 1 / m * dZ2.dot(A1.T)\n",
    "    db2 = 1 / m * np.sum(dZ2)\n",
    "    dZ1 = W2.T.dot(dZ2) * ReLU_deriv(Z1)\n",
    "    dW1 = 1 / m * dZ1.dot(X.T)\n",
    "    db1 = 1 / m * np.sum(dZ1)\n",
    "    return dW1, db1, dW2, db2\n",
    "\n",
    "def update_params(W1, b1, W2, b2, dW1, db1, dW2, db2, alpha):\n",
    "    W1 = W1 - alpha * dW1\n",
    "    b1 = b1 - alpha * db1    \n",
    "    W2 = W2 - alpha * dW2  \n",
    "    b2 = b2 - alpha * db2    \n",
    "    return W1, b1, W2, b2"
   ]
  },
  {
   "cell_type": "code",
   "execution_count": 8,
   "id": "b5c664aa",
   "metadata": {
    "execution": {
     "iopub.execute_input": "2024-04-11T12:53:04.157953Z",
     "iopub.status.busy": "2024-04-11T12:53:04.157513Z",
     "iopub.status.idle": "2024-04-11T12:53:04.165791Z",
     "shell.execute_reply": "2024-04-11T12:53:04.164364Z"
    },
    "papermill": {
     "duration": 0.016771,
     "end_time": "2024-04-11T12:53:04.168266",
     "exception": false,
     "start_time": "2024-04-11T12:53:04.151495",
     "status": "completed"
    },
    "tags": []
   },
   "outputs": [],
   "source": [
    "def get_predictions(A2):\n",
    "    return np.argmax(A2, 0)\n",
    "\n",
    "def get_accuracy(predictions, Y):\n",
    "    print(predictions, Y)\n",
    "    return np.sum(predictions == Y) / Y.size\n",
    "\n",
    "def gradient_descent(X, Y, alpha, iterations):\n",
    "    W1, b1, W2, b2 = init_params()\n",
    "    for i in range(iterations):\n",
    "        Z1, A1, Z2, A2 = forward_prop(W1, b1, W2, b2, X)\n",
    "        dW1, db1, dW2, db2 = backward_prop(Z1, A1, Z2, A2, W1, W2, X, Y)\n",
    "        W1, b1, W2, b2 = update_params(W1, b1, W2, b2, dW1, db1, dW2, db2, alpha)\n",
    "        if i % 10 == 0:\n",
    "            print(\"Iteration: \", i)\n",
    "            predictions = get_predictions(A2)\n",
    "            print(get_accuracy(predictions, Y))\n",
    "    return W1, b1, W2, b2"
   ]
  },
  {
   "cell_type": "code",
   "execution_count": 9,
   "id": "4f186df5",
   "metadata": {
    "execution": {
     "iopub.execute_input": "2024-04-11T12:53:04.178844Z",
     "iopub.status.busy": "2024-04-11T12:53:04.178398Z",
     "iopub.status.idle": "2024-04-11T12:56:56.443600Z",
     "shell.execute_reply": "2024-04-11T12:56:56.442065Z"
    },
    "papermill": {
     "duration": 232.274873,
     "end_time": "2024-04-11T12:56:56.447470",
     "exception": false,
     "start_time": "2024-04-11T12:53:04.172597",
     "status": "completed"
    },
    "tags": []
   },
   "outputs": [
    {
     "name": "stderr",
     "output_type": "stream",
     "text": [
      "/tmp/ipykernel_18/3962810796.py:12: RuntimeWarning: overflow encountered in exp\n",
      "  A = np.exp(Z) / sum(np.exp(Z))\n",
      "/tmp/ipykernel_18/3962810796.py:12: RuntimeWarning: invalid value encountered in divide\n",
      "  A = np.exp(Z) / sum(np.exp(Z))\n"
     ]
    },
    {
     "name": "stdout",
     "output_type": "stream",
     "text": [
      "Iteration:  0\n",
      "[3 8 3 ... 5 3 5] [7 2 0 ... 2 7 4]\n",
      "0.07090243902439024\n",
      "Iteration:  10\n",
      "[0 0 0 ... 0 0 0] [7 2 0 ... 2 7 4]\n",
      "0.09839024390243903\n",
      "Iteration:  20\n",
      "[0 0 0 ... 0 0 0] [7 2 0 ... 2 7 4]\n",
      "0.09839024390243903\n",
      "Iteration:  30\n",
      "[0 0 0 ... 0 0 0] [7 2 0 ... 2 7 4]\n",
      "0.09839024390243903\n",
      "Iteration:  40\n",
      "[0 0 0 ... 0 0 0] [7 2 0 ... 2 7 4]\n",
      "0.09839024390243903\n",
      "Iteration:  50\n",
      "[0 0 0 ... 0 0 0] [7 2 0 ... 2 7 4]\n",
      "0.09839024390243903\n",
      "Iteration:  60\n",
      "[0 0 0 ... 0 0 0] [7 2 0 ... 2 7 4]\n",
      "0.09839024390243903\n",
      "Iteration:  70\n",
      "[0 0 0 ... 0 0 0] [7 2 0 ... 2 7 4]\n",
      "0.09839024390243903\n",
      "Iteration:  80\n",
      "[0 0 0 ... 0 0 0] [7 2 0 ... 2 7 4]\n",
      "0.09839024390243903\n",
      "Iteration:  90\n",
      "[0 0 0 ... 0 0 0] [7 2 0 ... 2 7 4]\n",
      "0.09839024390243903\n",
      "Iteration:  100\n",
      "[0 0 0 ... 0 0 0] [7 2 0 ... 2 7 4]\n",
      "0.09839024390243903\n",
      "Iteration:  110\n",
      "[0 0 0 ... 0 0 0] [7 2 0 ... 2 7 4]\n",
      "0.09839024390243903\n",
      "Iteration:  120\n",
      "[0 0 0 ... 0 0 0] [7 2 0 ... 2 7 4]\n",
      "0.09839024390243903\n",
      "Iteration:  130\n",
      "[0 0 0 ... 0 0 0] [7 2 0 ... 2 7 4]\n",
      "0.09839024390243903\n",
      "Iteration:  140\n",
      "[0 0 0 ... 0 0 0] [7 2 0 ... 2 7 4]\n",
      "0.09839024390243903\n",
      "Iteration:  150\n",
      "[0 0 0 ... 0 0 0] [7 2 0 ... 2 7 4]\n",
      "0.09839024390243903\n",
      "Iteration:  160\n",
      "[0 0 0 ... 0 0 0] [7 2 0 ... 2 7 4]\n",
      "0.09839024390243903\n",
      "Iteration:  170\n",
      "[0 0 0 ... 0 0 0] [7 2 0 ... 2 7 4]\n",
      "0.09839024390243903\n",
      "Iteration:  180\n",
      "[0 0 0 ... 0 0 0] [7 2 0 ... 2 7 4]\n",
      "0.09839024390243903\n",
      "Iteration:  190\n",
      "[0 0 0 ... 0 0 0] [7 2 0 ... 2 7 4]\n",
      "0.09839024390243903\n",
      "Iteration:  200\n",
      "[0 0 0 ... 0 0 0] [7 2 0 ... 2 7 4]\n",
      "0.09839024390243903\n",
      "Iteration:  210\n",
      "[0 0 0 ... 0 0 0] [7 2 0 ... 2 7 4]\n",
      "0.09839024390243903\n",
      "Iteration:  220\n",
      "[0 0 0 ... 0 0 0] [7 2 0 ... 2 7 4]\n",
      "0.09839024390243903\n",
      "Iteration:  230\n",
      "[0 0 0 ... 0 0 0] [7 2 0 ... 2 7 4]\n",
      "0.09839024390243903\n",
      "Iteration:  240\n",
      "[0 0 0 ... 0 0 0] [7 2 0 ... 2 7 4]\n",
      "0.09839024390243903\n",
      "Iteration:  250\n",
      "[0 0 0 ... 0 0 0] [7 2 0 ... 2 7 4]\n",
      "0.09839024390243903\n",
      "Iteration:  260\n",
      "[0 0 0 ... 0 0 0] [7 2 0 ... 2 7 4]\n",
      "0.09839024390243903\n",
      "Iteration:  270\n",
      "[0 0 0 ... 0 0 0] [7 2 0 ... 2 7 4]\n",
      "0.09839024390243903\n",
      "Iteration:  280\n",
      "[0 0 0 ... 0 0 0] [7 2 0 ... 2 7 4]\n",
      "0.09839024390243903\n",
      "Iteration:  290\n",
      "[0 0 0 ... 0 0 0] [7 2 0 ... 2 7 4]\n",
      "0.09839024390243903\n",
      "Iteration:  300\n",
      "[0 0 0 ... 0 0 0] [7 2 0 ... 2 7 4]\n",
      "0.09839024390243903\n",
      "Iteration:  310\n",
      "[0 0 0 ... 0 0 0] [7 2 0 ... 2 7 4]\n",
      "0.09839024390243903\n",
      "Iteration:  320\n",
      "[0 0 0 ... 0 0 0] [7 2 0 ... 2 7 4]\n",
      "0.09839024390243903\n",
      "Iteration:  330\n",
      "[0 0 0 ... 0 0 0] [7 2 0 ... 2 7 4]\n",
      "0.09839024390243903\n",
      "Iteration:  340\n",
      "[0 0 0 ... 0 0 0] [7 2 0 ... 2 7 4]\n",
      "0.09839024390243903\n",
      "Iteration:  350\n",
      "[0 0 0 ... 0 0 0] [7 2 0 ... 2 7 4]\n",
      "0.09839024390243903\n",
      "Iteration:  360\n",
      "[0 0 0 ... 0 0 0] [7 2 0 ... 2 7 4]\n",
      "0.09839024390243903\n",
      "Iteration:  370\n",
      "[0 0 0 ... 0 0 0] [7 2 0 ... 2 7 4]\n",
      "0.09839024390243903\n",
      "Iteration:  380\n",
      "[0 0 0 ... 0 0 0] [7 2 0 ... 2 7 4]\n",
      "0.09839024390243903\n",
      "Iteration:  390\n",
      "[0 0 0 ... 0 0 0] [7 2 0 ... 2 7 4]\n",
      "0.09839024390243903\n",
      "Iteration:  400\n",
      "[0 0 0 ... 0 0 0] [7 2 0 ... 2 7 4]\n",
      "0.09839024390243903\n",
      "Iteration:  410\n",
      "[0 0 0 ... 0 0 0] [7 2 0 ... 2 7 4]\n",
      "0.09839024390243903\n",
      "Iteration:  420\n",
      "[0 0 0 ... 0 0 0] [7 2 0 ... 2 7 4]\n",
      "0.09839024390243903\n",
      "Iteration:  430\n",
      "[0 0 0 ... 0 0 0] [7 2 0 ... 2 7 4]\n",
      "0.09839024390243903\n",
      "Iteration:  440\n",
      "[0 0 0 ... 0 0 0] [7 2 0 ... 2 7 4]\n",
      "0.09839024390243903\n",
      "Iteration:  450\n",
      "[0 0 0 ... 0 0 0] [7 2 0 ... 2 7 4]\n",
      "0.09839024390243903\n",
      "Iteration:  460\n",
      "[0 0 0 ... 0 0 0] [7 2 0 ... 2 7 4]\n",
      "0.09839024390243903\n",
      "Iteration:  470\n",
      "[0 0 0 ... 0 0 0] [7 2 0 ... 2 7 4]\n",
      "0.09839024390243903\n",
      "Iteration:  480\n",
      "[0 0 0 ... 0 0 0] [7 2 0 ... 2 7 4]\n",
      "0.09839024390243903\n",
      "Iteration:  490\n",
      "[0 0 0 ... 0 0 0] [7 2 0 ... 2 7 4]\n",
      "0.09839024390243903\n"
     ]
    }
   ],
   "source": [
    "W1, b1, W2, b2 = gradient_descent(X_train, Y_train, 0.10, 500)"
   ]
  },
  {
   "cell_type": "code",
   "execution_count": 10,
   "id": "51745a70",
   "metadata": {
    "execution": {
     "iopub.execute_input": "2024-04-11T12:56:56.479002Z",
     "iopub.status.busy": "2024-04-11T12:56:56.478336Z",
     "iopub.status.idle": "2024-04-11T12:56:56.489552Z",
     "shell.execute_reply": "2024-04-11T12:56:56.488165Z"
    },
    "papermill": {
     "duration": 0.029313,
     "end_time": "2024-04-11T12:56:56.492813",
     "exception": false,
     "start_time": "2024-04-11T12:56:56.463500",
     "status": "completed"
    },
    "tags": []
   },
   "outputs": [],
   "source": [
    "def make_predictions(X, W1, b1, W2, b2):\n",
    "    _, _, _, A2 = forward_prop(W1, b1, W2, b2, X)\n",
    "    predictions = get_predictions(A2)\n",
    "    return predictions\n",
    "\n",
    "def test_prediction(index, W1, b1, W2, b2):\n",
    "    current_image = X_train[:, index, None]\n",
    "    prediction = make_predictions(X_train[:, index, None], W1, b1, W2, b2)\n",
    "    label = Y_train[index]\n",
    "    print(\"Prediction: \", prediction)\n",
    "    print(\"Label: \", label)\n",
    "    \n",
    "    current_image = current_image.reshape((28, 28)) * 255\n",
    "    plt.gray()\n",
    "    plt.imshow(current_image, interpolation='nearest')\n",
    "    plt.show()\n"
   ]
  },
  {
   "cell_type": "code",
   "execution_count": 11,
   "id": "2cb6428d",
   "metadata": {
    "execution": {
     "iopub.execute_input": "2024-04-11T12:56:56.521349Z",
     "iopub.status.busy": "2024-04-11T12:56:56.520605Z",
     "iopub.status.idle": "2024-04-11T12:56:57.254940Z",
     "shell.execute_reply": "2024-04-11T12:56:57.253594Z"
    },
    "papermill": {
     "duration": 0.752002,
     "end_time": "2024-04-11T12:56:57.257851",
     "exception": false,
     "start_time": "2024-04-11T12:56:56.505849",
     "status": "completed"
    },
    "tags": []
   },
   "outputs": [
    {
     "name": "stdout",
     "output_type": "stream",
     "text": [
      "Prediction:  [0]\n",
      "Label:  7\n"
     ]
    },
    {
     "data": {
      "image/png": "[encoded data removed]",
      "text/plain": [
       "<Figure size 640x480 with 1 Axes>"
      ]
     },
     "metadata": {},
     "output_type": "display_data"
    },
    {
     "name": "stdout",
     "output_type": "stream",
     "text": [
      "Prediction:  [0]\n",
      "Label:  2\n"
     ]
    },
    {
     "data": {
      "image/png": "[encoded data removed]",
      "text/plain": [
       "<Figure size 640x480 with 1 Axes>"
      ]
     },
     "metadata": {},
     "output_type": "display_data"
    },
    {
     "name": "stdout",
     "output_type": "stream",
     "text": [
      "Prediction:  [0]\n",
      "Label:  0\n"
     ]
    },
    {
     "data": {
      "image/png": "[encoded data removed]",
      "text/plain": [
       "<Figure size 640x480 with 1 Axes>"
      ]
     },
     "metadata": {},
     "output_type": "display_data"
    },
    {
     "name": "stdout",
     "output_type": "stream",
     "text": [
      "Prediction:  [0]\n",
      "Label:  4\n"
     ]
    },
    {
     "data": {
      "image/png": "[encoded data removed]",
      "text/plain": [
       "<Figure size 640x480 with 1 Axes>"
      ]
     },
     "metadata": {},
     "output_type": "display_data"
    }
   ],
   "source": [
    "test_prediction(0, W1, b1, W2, b2)\n",
    "test_prediction(1, W1, b1, W2, b2)\n",
    "test_prediction(2, W1, b1, W2, b2)\n",
    "test_prediction(3, W1, b1, W2, b2)"
   ]
  }
 ],
 "metadata": {
  "kaggle": {
   "accelerator": "none",
   "dataSources": [
    {
     "databundleVersionId": 861823,
     "sourceId": 3004,
     "sourceType": "competition"
    }
   ],
   "dockerImageVersionId": 30673,
   "isGpuEnabled": false,
   "isInternetEnabled": true,
   "language": "python",
   "sourceType": "notebook"
  },
  "kernelspec": {
   "display_name": "Python 3",
   "language": "python",
   "name": "python3"
  },
  "language_info": {
   "codemirror_mode": {
    "name": "ipython",
    "version": 3
   },
   "file_extension": ".py",
   "mimetype": "text/x-python",
   "name": "python",
   "nbconvert_exporter": "python",
   "pygments_lexer": "ipython3",
   "version": "3.10.13"
  },
  "papermill": {
   "default_parameters": {},
   "duration": 242.759256,
   "end_time": "2024-04-11T12:56:57.890522",
   "environment_variables": {},
   "exception": null,
   "input_path": "__notebook__.ipynb",
   "output_path": "__notebook__.ipynb",
   "parameters": {},
   "start_time": "2024-04-11T12:52:55.131266",
   "version": "2.5.0"
  }
 },
 "nbformat": 4,
 "nbformat_minor": 5
}
